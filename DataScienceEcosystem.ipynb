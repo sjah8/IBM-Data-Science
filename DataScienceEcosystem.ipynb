{
 "cells": [
  {
   "cell_type": "markdown",
   "id": "e08f3f23-204d-4e36-998e-527c22fcb786",
   "metadata": {},
   "source": [
    "<h1>Data Science Tools and Ecosystem</h1>"
   ]
  },
  {
   "cell_type": "markdown",
   "id": "07a4d89c-dc54-43e3-85e3-6954aa962541",
   "metadata": {},
   "source": [
    "In this notebook, Data Science Tools and Ecosystem are summarized."
   ]
  },
  {
   "cell_type": "markdown",
   "id": "d4f0b07f-3edb-4a76-9042-ddfb94906b80",
   "metadata": {},
   "source": [
    "Some of the popular languages that Data Scientists use are:\n",
    "\n",
    "1. Python\n",
    "2. R\n",
    "3. Scala"
   ]
  },
  {
   "cell_type": "markdown",
   "id": "150a2a8a-5df9-41ab-984a-991d98be1df3",
   "metadata": {},
   "source": [
    "Some of the commonly used libraries used by Data Scientists include:\n",
    "\n",
    "1. Pandas (Python)\n",
    "2. Numpy (Python)\n",
    "3. Tensorflow (Python / R)\n",
    "4. Keras (Python / R)\n",
    "5. Matplotlib (Python)\n",
    "6. Ggplot (R)\n",
    "7. Scipy (Python)\n",
    "8. Caret (R)"
   ]
  },
  {
   "cell_type": "markdown",
   "id": "be22dc13-d19f-48af-b887-3bd155d04ba5",
   "metadata": {},
   "source": [
    "| Data Science Tools |\n",
    "|:-------------------|\n",
    "| JupyterLab         |\n",
    "| RStudio            |\n",
    "| Apache Spark       |"
   ]
  },
  {
   "cell_type": "markdown",
   "id": "51f897ec-696c-45b3-8c32-a9b0e7a6a8e0",
   "metadata": {},
   "source": [
    "<h3>Below are a few examples of evaluating arithmetic expressions in Python</h3>"
   ]
  },
  {
   "cell_type": "code",
   "execution_count": 1,
   "id": "76d3c86f-e19b-4c24-98a5-aa6f3fc71191",
   "metadata": {
    "scrolled": true
   },
   "outputs": [
    {
     "data": {
      "text/plain": [
       "17"
      ]
     },
     "execution_count": 1,
     "metadata": {},
     "output_type": "execute_result"
    }
   ],
   "source": [
    "# This a simple arithmetic expression to mutiply then add integers\n",
    "(3*4)+5"
   ]
  },
  {
   "cell_type": "code",
   "execution_count": 9,
   "id": "5f8c4c2d-da3a-4b72-af02-c8b271b263aa",
   "metadata": {},
   "outputs": [
    {
     "name": "stdout",
     "output_type": "stream",
     "text": [
      "200 minutes= 3.3333333333333335 hours\n"
     ]
    }
   ],
   "source": [
    "# This will convert 200 minutes to hours by diving by 60\n",
    "print('200 minutes=', 200/60, 'hours')"
   ]
  },
  {
   "cell_type": "markdown",
   "id": "1e23ce20-06e6-412a-a1e4-ebe6cd7e19e1",
   "metadata": {},
   "source": [
    "<b>Objectives:</b>\n",
    "* Popular programming languages used in Data Science\n",
    "* Commonly used libraries used by Data Scientists\n",
    "* Tools and environments used in Data Science\n",
    "* Using markdowns in Jupyter Notebooks\n",
    "* Basic arithmetic expressions in Python"
   ]
  },
  {
   "cell_type": "markdown",
   "id": "4e3a7c89-db3b-460a-9d21-5fbe460538b3",
   "metadata": {},
   "source": [
    "<h2>Author:</h2>\n",
    "Sebastián J. Agulló"
   ]
  },
  {
   "cell_type": "code",
   "execution_count": null,
   "id": "f1b6afe5-5780-4956-b9fa-fbc06daa6777",
   "metadata": {},
   "outputs": [],
   "source": []
  }
 ],
 "metadata": {
  "kernelspec": {
   "display_name": "Python 3 (ipykernel)",
   "language": "python",
   "name": "python3"
  },
  "language_info": {
   "codemirror_mode": {
    "name": "ipython",
    "version": 3
   },
   "file_extension": ".py",
   "mimetype": "text/x-python",
   "name": "python",
   "nbconvert_exporter": "python",
   "pygments_lexer": "ipython3",
   "version": "3.12.5"
  }
 },
 "nbformat": 4,
 "nbformat_minor": 5
}
